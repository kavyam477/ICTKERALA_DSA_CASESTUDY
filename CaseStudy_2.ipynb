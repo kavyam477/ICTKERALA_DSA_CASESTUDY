{
 "cells": [
  {
   "cell_type": "markdown",
   "id": "43028783",
   "metadata": {},
   "source": [
    "# CASE STUDY 2"
   ]
  },
  {
   "cell_type": "code",
   "execution_count": 94,
   "id": "c7f8c576",
   "metadata": {},
   "outputs": [],
   "source": [
    "import numpy as np\n",
    "import pandas as pd\n",
    "import matplotlib.pyplot as plt\n",
    "import seaborn as sns"
   ]
  },
  {
   "cell_type": "code",
   "execution_count": 95,
   "id": "69e7c050",
   "metadata": {},
   "outputs": [],
   "source": [
    "data1=pd.read_csv(\"StudentsPerformance.csv\")"
   ]
  },
  {
   "cell_type": "code",
   "execution_count": 96,
   "id": "1da2bd5d",
   "metadata": {},
   "outputs": [
    {
     "data": {
      "text/html": [
       "<div>\n",
       "<style scoped>\n",
       "    .dataframe tbody tr th:only-of-type {\n",
       "        vertical-align: middle;\n",
       "    }\n",
       "\n",
       "    .dataframe tbody tr th {\n",
       "        vertical-align: top;\n",
       "    }\n",
       "\n",
       "    .dataframe thead th {\n",
       "        text-align: right;\n",
       "    }\n",
       "</style>\n",
       "<table border=\"1\" class=\"dataframe\">\n",
       "  <thead>\n",
       "    <tr style=\"text-align: right;\">\n",
       "      <th></th>\n",
       "      <th>gender</th>\n",
       "      <th>race/ethnicity</th>\n",
       "      <th>parental level of education</th>\n",
       "      <th>lunch</th>\n",
       "      <th>test preparation course</th>\n",
       "      <th>math score</th>\n",
       "      <th>reading score</th>\n",
       "      <th>writing score</th>\n",
       "    </tr>\n",
       "  </thead>\n",
       "  <tbody>\n",
       "    <tr>\n",
       "      <th>0</th>\n",
       "      <td>female</td>\n",
       "      <td>group C</td>\n",
       "      <td>some high school</td>\n",
       "      <td>free/reduced</td>\n",
       "      <td>none</td>\n",
       "      <td>0</td>\n",
       "      <td>17</td>\n",
       "      <td>10</td>\n",
       "    </tr>\n",
       "    <tr>\n",
       "      <th>1</th>\n",
       "      <td>female</td>\n",
       "      <td>group B</td>\n",
       "      <td>high school</td>\n",
       "      <td>free/reduced</td>\n",
       "      <td>none</td>\n",
       "      <td>8</td>\n",
       "      <td>24</td>\n",
       "      <td>23</td>\n",
       "    </tr>\n",
       "    <tr>\n",
       "      <th>2</th>\n",
       "      <td>female</td>\n",
       "      <td>group B</td>\n",
       "      <td>some high school</td>\n",
       "      <td>free/reduced</td>\n",
       "      <td>none</td>\n",
       "      <td>18</td>\n",
       "      <td>32</td>\n",
       "      <td>28</td>\n",
       "    </tr>\n",
       "    <tr>\n",
       "      <th>3</th>\n",
       "      <td>female</td>\n",
       "      <td>group B</td>\n",
       "      <td>some college</td>\n",
       "      <td>standard</td>\n",
       "      <td>none</td>\n",
       "      <td>11</td>\n",
       "      <td>38</td>\n",
       "      <td>32</td>\n",
       "    </tr>\n",
       "    <tr>\n",
       "      <th>4</th>\n",
       "      <td>female</td>\n",
       "      <td>group C</td>\n",
       "      <td>some college</td>\n",
       "      <td>free/reduced</td>\n",
       "      <td>none</td>\n",
       "      <td>22</td>\n",
       "      <td>39</td>\n",
       "      <td>33</td>\n",
       "    </tr>\n",
       "    <tr>\n",
       "      <th>...</th>\n",
       "      <td>...</td>\n",
       "      <td>...</td>\n",
       "      <td>...</td>\n",
       "      <td>...</td>\n",
       "      <td>...</td>\n",
       "      <td>...</td>\n",
       "      <td>...</td>\n",
       "      <td>...</td>\n",
       "    </tr>\n",
       "    <tr>\n",
       "      <th>995</th>\n",
       "      <td>male</td>\n",
       "      <td>group E</td>\n",
       "      <td>some college</td>\n",
       "      <td>standard</td>\n",
       "      <td>completed</td>\n",
       "      <td>99</td>\n",
       "      <td>87</td>\n",
       "      <td>81</td>\n",
       "    </tr>\n",
       "    <tr>\n",
       "      <th>996</th>\n",
       "      <td>male</td>\n",
       "      <td>group A</td>\n",
       "      <td>some college</td>\n",
       "      <td>standard</td>\n",
       "      <td>completed</td>\n",
       "      <td>100</td>\n",
       "      <td>96</td>\n",
       "      <td>86</td>\n",
       "    </tr>\n",
       "    <tr>\n",
       "      <th>997</th>\n",
       "      <td>male</td>\n",
       "      <td>group D</td>\n",
       "      <td>some college</td>\n",
       "      <td>standard</td>\n",
       "      <td>completed</td>\n",
       "      <td>100</td>\n",
       "      <td>97</td>\n",
       "      <td>99</td>\n",
       "    </tr>\n",
       "    <tr>\n",
       "      <th>998</th>\n",
       "      <td>male</td>\n",
       "      <td>group E</td>\n",
       "      <td>associate's degree</td>\n",
       "      <td>free/reduced</td>\n",
       "      <td>completed</td>\n",
       "      <td>100</td>\n",
       "      <td>100</td>\n",
       "      <td>93</td>\n",
       "    </tr>\n",
       "    <tr>\n",
       "      <th>999</th>\n",
       "      <td>male</td>\n",
       "      <td>group E</td>\n",
       "      <td>bachelor's degree</td>\n",
       "      <td>standard</td>\n",
       "      <td>completed</td>\n",
       "      <td>100</td>\n",
       "      <td>100</td>\n",
       "      <td>100</td>\n",
       "    </tr>\n",
       "  </tbody>\n",
       "</table>\n",
       "<p>1000 rows × 8 columns</p>\n",
       "</div>"
      ],
      "text/plain": [
       "     gender race/ethnicity parental level of education         lunch  \\\n",
       "0    female        group C            some high school  free/reduced   \n",
       "1    female        group B                 high school  free/reduced   \n",
       "2    female        group B            some high school  free/reduced   \n",
       "3    female        group B                some college      standard   \n",
       "4    female        group C                some college  free/reduced   \n",
       "..      ...            ...                         ...           ...   \n",
       "995    male        group E                some college      standard   \n",
       "996    male        group A                some college      standard   \n",
       "997    male        group D                some college      standard   \n",
       "998    male        group E          associate's degree  free/reduced   \n",
       "999    male        group E           bachelor's degree      standard   \n",
       "\n",
       "    test preparation course  math score  reading score  writing score  \n",
       "0                      none           0             17             10  \n",
       "1                      none           8             24             23  \n",
       "2                      none          18             32             28  \n",
       "3                      none          11             38             32  \n",
       "4                      none          22             39             33  \n",
       "..                      ...         ...            ...            ...  \n",
       "995               completed          99             87             81  \n",
       "996               completed         100             96             86  \n",
       "997               completed         100             97             99  \n",
       "998               completed         100            100             93  \n",
       "999               completed         100            100            100  \n",
       "\n",
       "[1000 rows x 8 columns]"
      ]
     },
     "execution_count": 96,
     "metadata": {},
     "output_type": "execute_result"
    }
   ],
   "source": [
    "data1"
   ]
  },
  {
   "cell_type": "markdown",
   "id": "2504f165",
   "metadata": {},
   "source": [
    "### 1. Find out how many males and females participated in the test. "
   ]
  },
  {
   "cell_type": "code",
   "execution_count": 97,
   "id": "2975051a",
   "metadata": {},
   "outputs": [
    {
     "name": "stdout",
     "output_type": "stream",
     "text": [
      "No of females participated in the Test : 518\n",
      "No of Males participated in the Test: 482\n"
     ]
    }
   ],
   "source": [
    "female=data1[(data1[\"gender\"]==\"female\")]\n",
    "a=len(female)\n",
    "male=data1[(data1[\"gender\"]==\"male\")]\n",
    "b=len(male)\n",
    "print(\"No of females participated in the Test :\",a)\n",
    "print(\"No of Males participated in the Test:\",b)"
   ]
  },
  {
   "cell_type": "markdown",
   "id": "21319ea5",
   "metadata": {},
   "source": [
    "### 2. What do you think about the students' parental level of education? "
   ]
  },
  {
   "cell_type": "code",
   "execution_count": 98,
   "id": "000fab9a",
   "metadata": {},
   "outputs": [
    {
     "data": {
      "image/png": "[encoded data removed]",
      "text/plain": [
       "<Figure size 432x288 with 1 Axes>"
      ]
     },
     "metadata": {},
     "output_type": "display_data"
    }
   ],
   "source": [
    "ple=data1.groupby('parental level of education')['parental level of education'].count()\n",
    "data2=data1['parental level of education'].unique()\n",
    "plt.pie(ple,autopct='%1.1f%%',labels=data2)\n",
    "plt.show()"
   ]
  },
  {
   "cell_type": "markdown",
   "id": "20d7f2a7",
   "metadata": {},
   "source": [
    "### 3. Who scores the most on average for math, reading and writing based on"
   ]
  },
  {
   "cell_type": "markdown",
   "id": "ccfa3ea2",
   "metadata": {},
   "source": [
    "##### ● Gender "
   ]
  },
  {
   "cell_type": "markdown",
   "id": "f6106d8c",
   "metadata": {},
   "source": [
    "###### Math"
   ]
  },
  {
   "cell_type": "code",
   "execution_count": 99,
   "id": "1eeba91f",
   "metadata": {},
   "outputs": [
    {
     "name": "stdout",
     "output_type": "stream",
     "text": [
      "gender\n",
      "male    68.821577\n",
      "Name: math score, dtype: float64\n"
     ]
    }
   ],
   "source": [
    "math=data1.groupby('gender')['math score'].mean()\n",
    "print(math.nlargest(1))"
   ]
  },
  {
   "cell_type": "markdown",
   "id": "fd7d8ec5",
   "metadata": {},
   "source": [
    "###### Reading "
   ]
  },
  {
   "cell_type": "code",
   "execution_count": 100,
   "id": "a8488df1",
   "metadata": {},
   "outputs": [
    {
     "name": "stdout",
     "output_type": "stream",
     "text": [
      "gender\n",
      "female    72.590734\n",
      "Name: reading score, dtype: float64\n"
     ]
    }
   ],
   "source": [
    "reading=data1.groupby('gender')['reading score'].mean()\n",
    "print(reading.nlargest(1))"
   ]
  },
  {
   "cell_type": "markdown",
   "id": "4efb9058",
   "metadata": {},
   "source": [
    "###### Writing "
   ]
  },
  {
   "cell_type": "code",
   "execution_count": 101,
   "id": "e4b63b85",
   "metadata": {},
   "outputs": [
    {
     "name": "stdout",
     "output_type": "stream",
     "text": [
      "gender\n",
      "female    72.467181\n",
      "Name: writing score, dtype: float64\n"
     ]
    }
   ],
   "source": [
    "writing=data1.groupby('gender')['writing score'].mean()\n",
    "print(writing.nlargest(1))"
   ]
  },
  {
   "cell_type": "markdown",
   "id": "a60378a7",
   "metadata": {},
   "source": [
    "##### ● Test preparation course \n"
   ]
  },
  {
   "cell_type": "code",
   "execution_count": 104,
   "id": "99fbb776",
   "metadata": {},
   "outputs": [
    {
     "name": "stdout",
     "output_type": "stream",
     "text": [
      "\n",
      " Math score\n",
      "\n",
      "   test preparation course  math score\n",
      "0               completed    69.96648\n",
      "1                    none    63.78972\n",
      "\n",
      " Reading score\n",
      "\n",
      "   test preparation course  reading score\n",
      "0               completed      74.175978\n",
      "1                    none      66.417445\n",
      "\n",
      " Writing score\n",
      "\n",
      "   test preparation course  writing score\n",
      "0               completed      74.684358\n",
      "1                    none      64.457944\n"
     ]
    }
   ],
   "source": [
    "test1=data1.groupby('test preparation course')['math score'].mean().reset_index()\n",
    "print(\"\\n\",\"Math score\\n\\n\",test1)\n",
    "test2=data1.groupby('test preparation course')['reading score'].mean().reset_index()\n",
    "print(\"\\n\",\"Reading score\\n\\n\",test2)\n",
    "test3=data1.groupby('test preparation course')['writing score'].mean().reset_index()\n",
    "print(\"\\n\",\"Writing score\\n\\n\",test3)"
   ]
  },
  {
   "cell_type": "markdown",
   "id": "522c8f0d",
   "metadata": {},
   "source": [
    "### 4. What do you think about the scoring variation for math, reading and writing based on "
   ]
  },
  {
   "cell_type": "markdown",
   "id": "9cb36fde",
   "metadata": {},
   "source": [
    "##### ● Gender "
   ]
  },
  {
   "cell_type": "code",
   "execution_count": 103,
   "id": "ddc6b5cd",
   "metadata": {},
   "outputs": [
    {
     "name": "stdout",
     "output_type": "stream",
     "text": [
      "Standard Deviation of math score\n",
      "\n",
      "   gender  math score\n",
      "0  female   16.029928\n",
      "1    male   14.556411 \n",
      "\n",
      "Standard Deviation of reading score\n",
      "\n",
      "   gender  reading score\n",
      "0  female      14.411018\n",
      "1    male      14.149594 \n",
      "\n",
      "Standard Deviation of writing score\n",
      "\n",
      "   gender  writing score\n",
      "0  female      14.844842\n",
      "1    male      14.227225 \n",
      "\n"
     ]
    }
   ],
   "source": [
    "std1 = data1.groupby('gender')['math score'].std().reset_index()\n",
    "print(\"Standard Deviation of math score\\n\")\n",
    "print(std1,\"\\n\")\n",
    "std2 = data1.groupby('gender')['reading score'].std().reset_index()\n",
    "print(\"Standard Deviation of reading score\\n\")\n",
    "print(std2,\"\\n\")\n",
    "std3 = data1.groupby('gender')['writing score'].std().reset_index()\n",
    "print(\"Standard Deviation of writing score\\n\")\n",
    "print(std3,\"\\n\")"
   ]
  },
  {
   "cell_type": "markdown",
   "id": "7cdac176",
   "metadata": {},
   "source": [
    "##### ● Test preparation course "
   ]
  },
  {
   "cell_type": "code",
   "execution_count": 105,
   "id": "b7c52a8a",
   "metadata": {},
   "outputs": [
    {
     "name": "stdout",
     "output_type": "stream",
     "text": [
      "Standard Deviation of math score\n",
      "\n",
      "   test preparation course  math score\n",
      "0               completed   14.521847\n",
      "1                    none   15.705689 \n",
      "\n",
      "Standard Deviation of reading score\n",
      "\n",
      "   test preparation course  reading score\n",
      "0               completed      13.537572\n",
      "1                    none      14.608896 \n",
      "\n",
      "Standard Deviation of writing score\n",
      "\n",
      "   test preparation course  writing score\n",
      "0               completed      13.236412\n",
      "1                    none      15.041667\n"
     ]
    }
   ],
   "source": [
    "df4=data1.groupby(\"test preparation course\")['math score'].std().reset_index()\n",
    "print(\"Standard Deviation of math score\\n\\n\",df4,\"\\n\")\n",
    "df5=data1.groupby(\"test preparation course\")['reading score'].std().reset_index()\n",
    "print(\"Standard Deviation of reading score\\n\\n\",df5,\"\\n\")\n",
    "df6=data1.groupby(\"test preparation course\")['writing score'].std().reset_index()\n",
    "print(\"Standard Deviation of writing score\\n\\n\",df6)"
   ]
  },
  {
   "cell_type": "markdown",
   "id": "1f8e1977",
   "metadata": {},
   "source": [
    "### 5. The management needs your help to give bonus points to the top 25% of students based on their maths score, so how will you help the management to achieve this.\n"
   ]
  },
  {
   "cell_type": "code",
   "execution_count": 106,
   "id": "734d72fe",
   "metadata": {},
   "outputs": [
    {
     "data": {
      "text/html": [
       "<div>\n",
       "<style scoped>\n",
       "    .dataframe tbody tr th:only-of-type {\n",
       "        vertical-align: middle;\n",
       "    }\n",
       "\n",
       "    .dataframe tbody tr th {\n",
       "        vertical-align: top;\n",
       "    }\n",
       "\n",
       "    .dataframe thead th {\n",
       "        text-align: right;\n",
       "    }\n",
       "</style>\n",
       "<table border=\"1\" class=\"dataframe\">\n",
       "  <thead>\n",
       "    <tr style=\"text-align: right;\">\n",
       "      <th></th>\n",
       "      <th>gender</th>\n",
       "      <th>race/ethnicity</th>\n",
       "      <th>parental level of education</th>\n",
       "      <th>lunch</th>\n",
       "      <th>test preparation course</th>\n",
       "      <th>math score</th>\n",
       "      <th>reading score</th>\n",
       "      <th>writing score</th>\n",
       "    </tr>\n",
       "  </thead>\n",
       "  <tbody>\n",
       "    <tr>\n",
       "      <th>516</th>\n",
       "      <td>female</td>\n",
       "      <td>group E</td>\n",
       "      <td>bachelor's degree</td>\n",
       "      <td>standard</td>\n",
       "      <td>none</td>\n",
       "      <td>100</td>\n",
       "      <td>100</td>\n",
       "      <td>100</td>\n",
       "    </tr>\n",
       "    <tr>\n",
       "      <th>517</th>\n",
       "      <td>female</td>\n",
       "      <td>group E</td>\n",
       "      <td>associate's degree</td>\n",
       "      <td>standard</td>\n",
       "      <td>none</td>\n",
       "      <td>100</td>\n",
       "      <td>100</td>\n",
       "      <td>100</td>\n",
       "    </tr>\n",
       "    <tr>\n",
       "      <th>999</th>\n",
       "      <td>male</td>\n",
       "      <td>group E</td>\n",
       "      <td>bachelor's degree</td>\n",
       "      <td>standard</td>\n",
       "      <td>completed</td>\n",
       "      <td>100</td>\n",
       "      <td>100</td>\n",
       "      <td>100</td>\n",
       "    </tr>\n",
       "    <tr>\n",
       "      <th>998</th>\n",
       "      <td>male</td>\n",
       "      <td>group E</td>\n",
       "      <td>associate's degree</td>\n",
       "      <td>free/reduced</td>\n",
       "      <td>completed</td>\n",
       "      <td>100</td>\n",
       "      <td>100</td>\n",
       "      <td>93</td>\n",
       "    </tr>\n",
       "    <tr>\n",
       "      <th>997</th>\n",
       "      <td>male</td>\n",
       "      <td>group D</td>\n",
       "      <td>some college</td>\n",
       "      <td>standard</td>\n",
       "      <td>completed</td>\n",
       "      <td>100</td>\n",
       "      <td>97</td>\n",
       "      <td>99</td>\n",
       "    </tr>\n",
       "    <tr>\n",
       "      <th>...</th>\n",
       "      <td>...</td>\n",
       "      <td>...</td>\n",
       "      <td>...</td>\n",
       "      <td>...</td>\n",
       "      <td>...</td>\n",
       "      <td>...</td>\n",
       "      <td>...</td>\n",
       "      <td>...</td>\n",
       "    </tr>\n",
       "    <tr>\n",
       "      <th>853</th>\n",
       "      <td>male</td>\n",
       "      <td>group D</td>\n",
       "      <td>associate's degree</td>\n",
       "      <td>free/reduced</td>\n",
       "      <td>none</td>\n",
       "      <td>77</td>\n",
       "      <td>78</td>\n",
       "      <td>73</td>\n",
       "    </tr>\n",
       "    <tr>\n",
       "      <th>427</th>\n",
       "      <td>female</td>\n",
       "      <td>group D</td>\n",
       "      <td>associate's degree</td>\n",
       "      <td>standard</td>\n",
       "      <td>none</td>\n",
       "      <td>77</td>\n",
       "      <td>77</td>\n",
       "      <td>73</td>\n",
       "    </tr>\n",
       "    <tr>\n",
       "      <th>856</th>\n",
       "      <td>male</td>\n",
       "      <td>group E</td>\n",
       "      <td>some high school</td>\n",
       "      <td>standard</td>\n",
       "      <td>completed</td>\n",
       "      <td>77</td>\n",
       "      <td>76</td>\n",
       "      <td>77</td>\n",
       "    </tr>\n",
       "    <tr>\n",
       "      <th>855</th>\n",
       "      <td>male</td>\n",
       "      <td>group E</td>\n",
       "      <td>associate's degree</td>\n",
       "      <td>free/reduced</td>\n",
       "      <td>completed</td>\n",
       "      <td>77</td>\n",
       "      <td>69</td>\n",
       "      <td>68</td>\n",
       "    </tr>\n",
       "    <tr>\n",
       "      <th>426</th>\n",
       "      <td>female</td>\n",
       "      <td>group D</td>\n",
       "      <td>some college</td>\n",
       "      <td>standard</td>\n",
       "      <td>none</td>\n",
       "      <td>77</td>\n",
       "      <td>68</td>\n",
       "      <td>77</td>\n",
       "    </tr>\n",
       "  </tbody>\n",
       "</table>\n",
       "<p>250 rows × 8 columns</p>\n",
       "</div>"
      ],
      "text/plain": [
       "     gender race/ethnicity parental level of education         lunch  \\\n",
       "516  female        group E           bachelor's degree      standard   \n",
       "517  female        group E          associate's degree      standard   \n",
       "999    male        group E           bachelor's degree      standard   \n",
       "998    male        group E          associate's degree  free/reduced   \n",
       "997    male        group D                some college      standard   \n",
       "..      ...            ...                         ...           ...   \n",
       "853    male        group D          associate's degree  free/reduced   \n",
       "427  female        group D          associate's degree      standard   \n",
       "856    male        group E            some high school      standard   \n",
       "855    male        group E          associate's degree  free/reduced   \n",
       "426  female        group D                some college      standard   \n",
       "\n",
       "    test preparation course  math score  reading score  writing score  \n",
       "516                    none         100            100            100  \n",
       "517                    none         100            100            100  \n",
       "999               completed         100            100            100  \n",
       "998               completed         100            100             93  \n",
       "997               completed         100             97             99  \n",
       "..                      ...         ...            ...            ...  \n",
       "853                    none          77             78             73  \n",
       "427                    none          77             77             73  \n",
       "856               completed          77             76             77  \n",
       "855               completed          77             69             68  \n",
       "426                    none          77             68             77  \n",
       "\n",
       "[250 rows x 8 columns]"
      ]
     },
     "execution_count": 106,
     "metadata": {},
     "output_type": "execute_result"
    }
   ],
   "source": [
    "df7 = data1.sort_values(by=['math score','reading score','writing score'],ascending=[False,False,False])\n",
    "df7.head(round(len(data1.index)*.25))"
   ]
  },
  {
   "cell_type": "code",
   "execution_count": null,
   "id": "27830032",
   "metadata": {},
   "outputs": [],
   "source": []
  }
 ],
 "metadata": {
  "kernelspec": {
   "display_name": "Python 3 (ipykernel)",
   "language": "python",
   "name": "python3"
  },
  "language_info": {
   "codemirror_mode": {
    "name": "ipython",
    "version": 3
   },
   "file_extension": ".py",
   "mimetype": "text/x-python",
   "name": "python",
   "nbconvert_exporter": "python",
   "pygments_lexer": "ipython3",
   "version": "3.9.7"
  }
 },
 "nbformat": 4,
 "nbformat_minor": 5
}
